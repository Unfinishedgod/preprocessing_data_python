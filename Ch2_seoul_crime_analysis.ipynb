{
 "cells": [
  {
   "cell_type": "markdown",
   "metadata": {},
   "source": [
    "<center>\n",
    "<img src=\"https://image.aladin.co.kr/product/12609/37/cover500/k372532974_1.jpg\" width=\"200\" height=\"200\"><br>\n",
    "</center>\n",
    "\n",
    "# 2장 서울시 범죄 현황 분석\n",
    "\n",
    "이번에는 서울시의 범죄 현황 분석을 해보자. 구글에 '서울시 관서별 5대 범죄 발생 검거 현황' 이라는 키워드로 검색한 결과에 대한 데이터를 준비 하자. 자세한 데이터는 다음링크를 참고 하자.\n",
    "\n",
    " - Github: [PinkWink](https://github.com/PinkWink/DataScience)\n",
    "\n",
    "### 2-1 pandas를 이용한 데이터 정리\n",
    "\n",
    "먼저 numpy와 pandas를 import하자. 그리고 이제 이 데이터를 crime_anal_police로 저장 해놓자. 그리고 다음을 보면 서울시 경찰서별로 살인, 강도, 강간, 절도, 폭력이라는 5대 범죄에 대한 발생건수와 검거 건수를 갖고 있다."
   ]
  },
  {
   "cell_type": "code",
   "execution_count": 13,
   "metadata": {},
   "outputs": [
    {
     "data": {
      "text/html": [
       "<div>\n",
       "<style scoped>\n",
       "    .dataframe tbody tr th:only-of-type {\n",
       "        vertical-align: middle;\n",
       "    }\n",
       "\n",
       "    .dataframe tbody tr th {\n",
       "        vertical-align: top;\n",
       "    }\n",
       "\n",
       "    .dataframe thead th {\n",
       "        text-align: right;\n",
       "    }\n",
       "</style>\n",
       "<table border=\"1\" class=\"dataframe\">\n",
       "  <thead>\n",
       "    <tr style=\"text-align: right;\">\n",
       "      <th></th>\n",
       "      <th>관서명</th>\n",
       "      <th>살인 발생</th>\n",
       "      <th>살인 검거</th>\n",
       "      <th>강도 발생</th>\n",
       "      <th>강도 검거</th>\n",
       "      <th>강간 발생</th>\n",
       "      <th>강간 검거</th>\n",
       "      <th>절도 발생</th>\n",
       "      <th>절도 검거</th>\n",
       "      <th>폭력 발생</th>\n",
       "      <th>폭력 검거</th>\n",
       "    </tr>\n",
       "  </thead>\n",
       "  <tbody>\n",
       "    <tr>\n",
       "      <th>0</th>\n",
       "      <td>중부서</td>\n",
       "      <td>2</td>\n",
       "      <td>2</td>\n",
       "      <td>3</td>\n",
       "      <td>2</td>\n",
       "      <td>105</td>\n",
       "      <td>65</td>\n",
       "      <td>1395</td>\n",
       "      <td>477</td>\n",
       "      <td>1355</td>\n",
       "      <td>1170</td>\n",
       "    </tr>\n",
       "    <tr>\n",
       "      <th>1</th>\n",
       "      <td>종로서</td>\n",
       "      <td>3</td>\n",
       "      <td>3</td>\n",
       "      <td>6</td>\n",
       "      <td>5</td>\n",
       "      <td>115</td>\n",
       "      <td>98</td>\n",
       "      <td>1070</td>\n",
       "      <td>413</td>\n",
       "      <td>1278</td>\n",
       "      <td>1070</td>\n",
       "    </tr>\n",
       "    <tr>\n",
       "      <th>2</th>\n",
       "      <td>남대문서</td>\n",
       "      <td>1</td>\n",
       "      <td>0</td>\n",
       "      <td>6</td>\n",
       "      <td>4</td>\n",
       "      <td>65</td>\n",
       "      <td>46</td>\n",
       "      <td>1153</td>\n",
       "      <td>382</td>\n",
       "      <td>869</td>\n",
       "      <td>794</td>\n",
       "    </tr>\n",
       "    <tr>\n",
       "      <th>3</th>\n",
       "      <td>서대문서</td>\n",
       "      <td>2</td>\n",
       "      <td>2</td>\n",
       "      <td>5</td>\n",
       "      <td>4</td>\n",
       "      <td>154</td>\n",
       "      <td>124</td>\n",
       "      <td>1812</td>\n",
       "      <td>738</td>\n",
       "      <td>2056</td>\n",
       "      <td>1711</td>\n",
       "    </tr>\n",
       "    <tr>\n",
       "      <th>4</th>\n",
       "      <td>혜화서</td>\n",
       "      <td>3</td>\n",
       "      <td>2</td>\n",
       "      <td>5</td>\n",
       "      <td>4</td>\n",
       "      <td>96</td>\n",
       "      <td>63</td>\n",
       "      <td>1114</td>\n",
       "      <td>424</td>\n",
       "      <td>1015</td>\n",
       "      <td>861</td>\n",
       "    </tr>\n",
       "  </tbody>\n",
       "</table>\n",
       "</div>"
      ],
      "text/plain": [
       "    관서명  살인 발생  살인 검거  강도 발생  강도 검거  강간 발생  강간 검거  절도 발생  절도 검거  폭력 발생  폭력 검거\n",
       "0   중부서      2      2      3      2    105     65   1395    477   1355   1170\n",
       "1   종로서      3      3      6      5    115     98   1070    413   1278   1070\n",
       "2  남대문서      1      0      6      4     65     46   1153    382    869    794\n",
       "3  서대문서      2      2      5      4    154    124   1812    738   2056   1711\n",
       "4   혜화서      3      2      5      4     96     63   1114    424   1015    861"
      ]
     },
     "execution_count": 13,
     "metadata": {},
     "output_type": "execute_result"
    }
   ],
   "source": [
    "import numpy as np\n",
    "import pandas as pd\n",
    "import json\n",
    "import requests \n",
    "\n",
    "\n",
    "crime_anal_police = pd.read_csv(\"data/02. crime_in_Seoul.csv\", thousands=',', \n",
    "                               encoding='euc-kr')\n",
    "\n",
    "crime_anal_police.head()"
   ]
  },
  {
   "cell_type": "markdown",
   "metadata": {},
   "source": [
    "여기서 문제가 하나 생긴다. 강남3구가 안전한지를 확인하려 할때 데이터가 관서별로 되어 있다. 서울시에는 한 구에 하나 혹은 두 군데의 경찰서가 위치해 있고, 구 이름과 다른 경찰서도 있다. 이 경찰서 목록을 소속 구별로 변경 하고 싶은데 이를 위해 이 정보를 알아야 한다. 이를 해결하기 위해 주소 데이터를 불러 오자.\n",
    "\n",
    "### 2-1 Google Maps를 이용해서 주소와, 위도 경도 정보 얻기\n",
    "\n",
    "위치에 대한 검색 결과중 주소와 위도, 경도 정보를 제공하는 서비스가 구글에 있다. Google Maps API라는건데 다음의 링크를 통해 Google Maps Geocoding API를 얻어주자."
   ]
  },
  {
   "cell_type": "code",
   "execution_count": 19,
   "metadata": {},
   "outputs": [
    {
     "name": "stdout",
     "output_type": "stream",
     "text": [
      "Collecting googlemaps\n",
      "\u001b[33m  Cache entry deserialization failed, entry ignored\u001b[0m\n",
      "  Downloading https://files.pythonhosted.org/packages/32/d0/3e02a031197a6e9499833dd15edd92675097438569b24a1ca8f9904a1c69/googlemaps-4.4.5.tar.gz\n",
      "Collecting requests<3.0,>=2.20.0 (from googlemaps)\n",
      "\u001b[33m  Cache entry deserialization failed, entry ignored\u001b[0m\n",
      "  Using cached https://files.pythonhosted.org/packages/29/c1/24814557f1d22c56d50280771a17307e6bf87b70727d975fd6b2ce6b014a/requests-2.25.1-py2.py3-none-any.whl\n",
      "Collecting chardet<5,>=3.0.2 (from requests<3.0,>=2.20.0->googlemaps)\n",
      "\u001b[33m  Cache entry deserialization failed, entry ignored\u001b[0m\n",
      "  Using cached https://files.pythonhosted.org/packages/19/c7/fa589626997dd07bd87d9269342ccb74b1720384a4d739a1872bd84fbe68/chardet-4.0.0-py2.py3-none-any.whl\n",
      "Collecting idna<3,>=2.5 (from requests<3.0,>=2.20.0->googlemaps)\n",
      "  Using cached https://files.pythonhosted.org/packages/a2/38/928ddce2273eaa564f6f50de919327bf3a00f091b5baba8dfa9460f3a8a8/idna-2.10-py2.py3-none-any.whl\n",
      "Collecting urllib3<1.27,>=1.21.1 (from requests<3.0,>=2.20.0->googlemaps)\n",
      "\u001b[33m  Cache entry deserialization failed, entry ignored\u001b[0m\n",
      "  Using cached https://files.pythonhosted.org/packages/09/c6/d3e3abe5b4f4f16cf0dfc9240ab7ce10c2baa0e268989a4e3ec19e90c84e/urllib3-1.26.4-py2.py3-none-any.whl\n",
      "Collecting certifi>=2017.4.17 (from requests<3.0,>=2.20.0->googlemaps)\n",
      "\u001b[33m  Cache entry deserialization failed, entry ignored\u001b[0m\n",
      "  Using cached https://files.pythonhosted.org/packages/5e/a0/5f06e1e1d463903cf0c0eebeb751791119ed7a4b3737fdc9a77f1cdfb51f/certifi-2020.12.5-py2.py3-none-any.whl\n",
      "Building wheels for collected packages: googlemaps\n",
      "  Running setup.py bdist_wheel for googlemaps ... \u001b[?25ldone\n",
      "\u001b[?25h  Stored in directory: /home/owen/.cache/pip/wheels/fb/24/33/51b0faba1170f6519eae3c51b6adbd9939296c73f54230b069\n",
      "Successfully built googlemaps\n",
      "Installing collected packages: chardet, idna, urllib3, certifi, requests, googlemaps\n",
      "Successfully installed certifi-2020.12.5 chardet-4.0.0 googlemaps-4.4.5 idna-2.10 requests-2.25.1 urllib3-1.26.4\n"
     ]
    }
   ],
   "source": [
    "# ! pip3 install googlemaps"
   ]
  },
  {
   "cell_type": "code",
   "execution_count": 20,
   "metadata": {},
   "outputs": [],
   "source": [
    "import googlemaps"
   ]
  },
  {
   "cell_type": "code",
   "execution_count": null,
   "metadata": {},
   "outputs": [],
   "source": []
  }
 ],
 "metadata": {
  "kernelspec": {
   "display_name": "Python 3",
   "language": "python",
   "name": "python3"
  },
  "language_info": {
   "codemirror_mode": {
    "name": "ipython",
    "version": 3
   },
   "file_extension": ".py",
   "mimetype": "text/x-python",
   "name": "python",
   "nbconvert_exporter": "python",
   "pygments_lexer": "ipython3",
   "version": "3.6.9"
  }
 },
 "nbformat": 4,
 "nbformat_minor": 4
}
